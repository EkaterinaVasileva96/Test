{
 "cells": [
  {
   "cell_type": "markdown",
   "id": "bef6feb1",
   "metadata": {},
   "source": [
    "## Calculator"
   ]
  },
  {
   "cell_type": "code",
   "execution_count": 12,
   "id": "ac7540a1",
   "metadata": {},
   "outputs": [],
   "source": [
    "def calculate(a, b, c): \n",
    "    return a + b * c \n"
   ]
  },
  {
   "cell_type": "code",
   "execution_count": 19,
   "id": "898d4724",
   "metadata": {},
   "outputs": [
    {
     "name": "stdout",
     "output_type": "stream",
     "text": [
      "2+3*4\n",
      "14\n"
     ]
    }
   ],
   "source": [
    "print ('2+3*4')\n",
    "print (calculate(2, 3, 4))"
   ]
  },
  {
   "cell_type": "code",
   "execution_count": null,
   "id": "ae5e25ea",
   "metadata": {},
   "outputs": [],
   "source": []
  }
 ],
 "metadata": {
  "kernelspec": {
   "display_name": "Python 3 (ipykernel)",
   "language": "python",
   "name": "python3"
  },
  "language_info": {
   "codemirror_mode": {
    "name": "ipython",
    "version": 3
   },
   "file_extension": ".py",
   "mimetype": "text/x-python",
   "name": "python",
   "nbconvert_exporter": "python",
   "pygments_lexer": "ipython3",
   "version": "3.9.7"
  }
 },
 "nbformat": 4,
 "nbformat_minor": 5
}
